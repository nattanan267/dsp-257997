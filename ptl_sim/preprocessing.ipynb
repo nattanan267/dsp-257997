{
 "cells": [
  {
   "cell_type": "code",
   "execution_count": 1,
   "metadata": {},
   "outputs": [],
   "source": [
    "import pandas as pd\n",
    "import pandasql as psql\n",
    "from geopy.geocoders import Nominatim\n",
    "import time\n",
    "import numpy as np\n",
    "from config import DATA_DIR\n",
    "from geo_utils import load_lsoa_coordinates, get_patient_lat_long\n",
    "from utils import estimate_slots_per_day_from_patient_data, generate_synthetic_patients\n",
    "\n"
   ]
  },
  {
   "cell_type": "code",
   "execution_count": 2,
   "metadata": {},
   "outputs": [],
   "source": [
    "df_patient = pd.read_csv(DATA_DIR/ \"Cataracts_RTT_Patient_level_data_24-25.csv\")\n",
    "df_provider = pd.read_csv(DATA_DIR/ \"provider.csv\")"
   ]
  },
  {
   "cell_type": "code",
   "execution_count": 3,
   "metadata": {},
   "outputs": [
    {
     "name": "stdout",
     "output_type": "stream",
     "text": [
      "Index(['provider', 'local_patient_identifier', 'lsoa', 'hrg_description',\n",
      "       'fin_year', 'fin_month', 'start_clock_date', 'end_clock_date',\n",
      "       'priority', 'independent_sector'],\n",
      "      dtype='object')\n",
      "Index(['Unnamed: 0', 'provider', 'is_nhs', 'ODScode', 'TrustName',\n",
      "       'ITClocation', 'SlotsPerYear', 'SlotsPerWeek', 'SlotsPerDay',\n",
      "       'NumberOfSurgeons', 'lat', 'long'],\n",
      "      dtype='object')\n"
     ]
    }
   ],
   "source": [
    "df_patient.columns = df_patient.columns.str.strip().str.lower().str.replace(' ', '_')\n",
    "\n",
    "print(df_patient.columns)\n",
    "print(df_provider.columns)"
   ]
  },
  {
   "cell_type": "code",
   "execution_count": 4,
   "metadata": {},
   "outputs": [
    {
     "name": "stderr",
     "output_type": "stream",
     "text": [
      "/var/folders/p_/9q2bvzqj04g1v63p4rjk_cxr0000gn/T/ipykernel_61310/3971728567.py:11: UserWarning: Parsing dates in %d/%m/%Y format when dayfirst=False (the default) was specified. Pass `dayfirst=True` or specify a format to silence this warning.\n",
      "  df_patient['start_clock_date'] = pd.to_datetime(df_patient['start_clock_date'], errors='coerce')\n",
      "/var/folders/p_/9q2bvzqj04g1v63p4rjk_cxr0000gn/T/ipykernel_61310/3971728567.py:12: UserWarning: Parsing dates in %d/%m/%Y format when dayfirst=False (the default) was specified. Pass `dayfirst=True` or specify a format to silence this warning.\n",
      "  df_patient['end_clock_date'] = pd.to_datetime(df_patient['end_clock_date'], errors='coerce')\n"
     ]
    }
   ],
   "source": [
    "if 'is_nhs' in df_patient.columns:\n",
    "    df_patient = df_patient.drop(columns='is_nhs')\n",
    "\n",
    "df_patient = df_patient.merge(\n",
    "    df_provider[['provider', 'is_nhs']],\n",
    "    how='left',\n",
    "    on='provider'\n",
    ")\n",
    "df_patient['is_nhs'] = df_patient['is_nhs'].fillna(False)\n",
    "\n",
    "df_patient['start_clock_date'] = pd.to_datetime(df_patient['start_clock_date'], errors='coerce')\n",
    "df_patient['end_clock_date'] = pd.to_datetime(df_patient['end_clock_date'], errors='coerce')\n",
    "df_patient['waiting_time'] = (df_patient['end_clock_date'] - df_patient['start_clock_date']).dt.days # calculate waiting time\n",
    "df_patient['waiting_time'] = df_patient['waiting_time'].apply(\n",
    "    lambda x: x if pd.notnull(x) and x >= 0 else np.nan\n",
    ")\n"
   ]
  },
  {
   "cell_type": "code",
   "execution_count": 5,
   "metadata": {},
   "outputs": [],
   "source": [
    "# HRG description -> code\n",
    "HRG_DESC_TO_CODE = {\n",
    "    'Complex, Cataract or Lens Procedures, with CC Score 2+': 'BZ30A',\n",
    "    'Complex, Cataract or Lens Procedures, with CC Score 0-1': 'BZ30B',\n",
    "    'Very Major, Cataract or Lens Procedures, with CC Score 2+': 'BZ31A',\n",
    "    'Very Major, Cataract or Lens Procedures, with CC Score 0-1': 'BZ31B',\n",
    "    'Intermediate, Cataract or Lens Procedures, with CC Score 2+': 'BZ32A',\n",
    "    'Intermediate, Cataract or Lens Procedures, with CC Score 0-1': 'BZ32B',\n",
    "    'Minor, Cataract or Lens Procedures': 'BZ33Z',\n",
    "    'Phacoemulsification Cataract Extraction and Lens Implant, with CC Score 4+': 'BZ34A',\n",
    "    'Phacoemulsification Cataract Extraction and Lens Implant, with CC Score 2-3': 'BZ34B',\n",
    "    'Phacoemulsification Cataract Extraction and Lens Implant, with CC Score 0-1': 'BZ34C',\n",
    "}\n",
    "\n",
    "# HRG code -> category, cc_score, complexity\n",
    "HRG_MAP = {\n",
    "    'BZ30A': ('Complex', 'CC Score 2+', 'High'),\n",
    "    'BZ30B': ('Complex', 'CC Score 0-1', 'Medium'),\n",
    "    'BZ31A': ('Very Major', 'CC Score 2+', 'High'),\n",
    "    'BZ31B': ('Very Major', 'CC Score 0-1', 'Medium'),\n",
    "    'BZ32A': ('Intermediate', 'CC Score 2+', 'Medium'),\n",
    "    'BZ32B': ('Intermediate', 'CC Score 0-1', 'Medium'),\n",
    "    'BZ33Z': ('Minor', 'NA', 'Low'),\n",
    "    'BZ34A': ('Phaco', 'CC Score 4+', 'High'),\n",
    "    'BZ34B': ('Phaco', 'CC Score 2-3', 'Medium'),\n",
    "    'BZ34C': ('Phaco', 'CC Score 0-1', 'Low'),\n",
    "}\n",
    "\n",
    "def assign_hrg_and_complexity(df_patient):\n",
    "    df = df_patient.copy()\n",
    "\n",
    "    df['hrg_code'] = df['hrg_description'].map(HRG_DESC_TO_CODE)\n",
    "\n",
    "    df[['category', 'cc_score', 'complexity']] = df['hrg_code'].apply(\n",
    "    lambda code: pd.Series(HRG_MAP.get(code, ('NA', 'NA', 'Unknown')))\n",
    "    )\n",
    "\n",
    "    return df\n",
    "\n",
    "\n",
    "df_patient = assign_hrg_and_complexity(df_patient)"
   ]
  },
  {
   "cell_type": "code",
   "execution_count": 6,
   "metadata": {},
   "outputs": [],
   "source": [
    "estimated_slots = estimate_slots_per_day_from_patient_data(df_patient)\n",
    "\n",
    "df_provider_filled = df_provider.copy()\n",
    "\n",
    "\n",
    "for col in ['SlotsPerDay', 'SlotsPerWeek', 'SlotsPerYear']:\n",
    "    if col in df_provider_filled.columns:\n",
    "        mask_na = df_provider_filled[col].isna()\n",
    "        df_provider_filled.loc[mask_na, col] = df_provider_filled.loc[mask_na, 'provider'].map(\n",
    "            estimated_slots.set_index('provider')[col]\n",
    "        )\n",
    "    else:\n",
    "        df_provider_filled[col] = df_provider_filled['provider'].map(\n",
    "            estimated_slots.set_index('provider')[col]\n",
    "        )\n",
    "\n",
    "df_provider_cleaned = df_provider_filled[[\n",
    "    'provider',\n",
    "    'is_nhs',\n",
    "    'SlotsPerYear',\n",
    "    'SlotsPerWeek',\n",
    "    'SlotsPerDay',\n",
    "    'lat',\n",
    "    'long'\n",
    "]]\n",
    "\n",
    "active_providers = df_patient['provider'].unique()\n",
    "df_provider_cleaned = df_provider_cleaned[df_provider_cleaned['provider'].isin(active_providers)].reset_index(drop=True)\n",
    "\n",
    "df_provider_cleaned.to_csv('./data/provider_lat_long.csv', index=False)\n"
   ]
  },
  {
   "cell_type": "code",
   "execution_count": 7,
   "metadata": {},
   "outputs": [],
   "source": [
    "np.random.seed(42)\n",
    "df_patient['needs_ga'] = np.random.rand(len(df_patient)) < 0.05"
   ]
  },
  {
   "cell_type": "code",
   "execution_count": 8,
   "metadata": {},
   "outputs": [],
   "source": [
    "df_patient = get_patient_lat_long(df_patient, load_lsoa_coordinates())\n",
    "df_patient = df_patient[df_patient['lat'].notnull() & df_patient['long'].notnull()]"
   ]
  },
  {
   "cell_type": "code",
   "execution_count": 9,
   "metadata": {},
   "outputs": [],
   "source": [
    "df_incentive = pd.read_csv(\"./data/nhs_tariff.csv\")\n",
    "\n",
    "tariff_map = df_incentive.set_index('hrg_code')['tariff'].to_dict()\n",
    "df_patient['tariff'] = df_patient['hrg_code'].map(tariff_map)\n",
    "df_patient['has_tariff'] = df_patient['tariff'].notna()\n",
    "\n",
    "df_with_tariff = df_patient[df_patient['has_tariff']]\n",
    "df_without_tariff = df_patient[~df_patient['has_tariff']]\n",
    "\n",
    "# estimate\n",
    "fallback_tariff = {\n",
    "    'BZ34A': 1300, \n",
    "    'BZ34B': 950,\n",
    "    'BZ34C': 850\n",
    "}\n",
    "\n",
    "df_patient['tariff'] = df_patient.apply(\n",
    "    lambda row: fallback_tariff.get(row['hrg_code'], row['tariff']),\n",
    "    axis=1\n",
    ")\n",
    "\n",
    "df_patient.to_csv('./data/patient_lat_long.csv')"
   ]
  },
  {
   "cell_type": "code",
   "execution_count": 10,
   "metadata": {},
   "outputs": [],
   "source": [
    "df_historical = pd.read_csv('./data/patient_lat_long_old.csv')\n",
    "\n",
    "if \"hrg\" in df_historical.columns:\n",
    "    df_historical = df_historical.rename(columns={\"hrg\": \"hrg_code\"})\n",
    "\n",
    "df_historical = df_historical[~df_historical[\"local_patient_identifier\"].astype(str).str.startswith(\"synthetic_\")]\n",
    "\n",
    "columns_to_drop = [\n",
    "    \"independent_sector\", \"provider_type\", \"hrg_type\", \"cc_score\", \n",
    "    \"needs_ga\", \"synthetic_location\", \"activity_date\", \"activity_type\", \"hrg_description\"\n",
    "]\n",
    "\n",
    "df_historical = df_historical.drop(columns=[col for col in columns_to_drop if col in df_historical.columns])\n",
    "\n",
    "df_synthetic = generate_synthetic_patients(\n",
    "    df_historical=df_historical,\n",
    "    df_2425=df_patient,\n",
    "    df_providers_2425=df_provider_cleaned,\n",
    "    n=28000,\n",
    "    date_range=(\"2024-04-01\", \"2025-03-31\"),\n",
    "    ga_ratio=0.02\n",
    ")\n",
    "\n",
    "df_synthetic[\"waiting_time\"] = df_synthetic[\"waiting_time\"].round().astype(\"Int64\")\n",
    "\n",
    "df_synthetic['tariff'] = df_synthetic['hrg_code'].map(tariff_map)\n",
    "df_synthetic['has_tariff'] = df_synthetic['tariff'].notna()\n",
    "\n",
    "df_with_tariff = df_synthetic[df_synthetic['has_tariff']]\n",
    "df_without_tariff = df_synthetic[~df_synthetic['has_tariff']]\n",
    "\n",
    "df_synthetic['tariff'] = df_synthetic.apply(\n",
    "    lambda row: fallback_tariff.get(row['hrg_code'], row['tariff']),\n",
    "    axis=1\n",
    ")\n",
    "\n",
    "def enrich_hrg_details(df: pd.DataFrame) -> pd.DataFrame:\n",
    "    df = df.copy()\n",
    "\n",
    "    # HRG Description (reverse mapping)\n",
    "    CODE_TO_DESC = {v: k for k, v in HRG_DESC_TO_CODE.items()}\n",
    "\n",
    "    # สร้าง column ใหม่\n",
    "    df[\"hrg_description\"] = df[\"hrg_code\"].map(CODE_TO_DESC)\n",
    "    df[[\"category\", \"cc_score\", \"complexity\"]] = df[\"hrg_code\"].apply(\n",
    "        lambda code: pd.Series(HRG_MAP.get(code, (\"Unknown\", \"Unknown\", \"Unknown\")))\n",
    "    )\n",
    "\n",
    "    return df\n",
    "\n",
    "df_synthetic = enrich_hrg_details(df_synthetic)\n",
    "\n",
    "df_synthetic.to_csv('df_synthetic.csv')"
   ]
  },
  {
   "cell_type": "code",
   "execution_count": 11,
   "metadata": {},
   "outputs": [
    {
     "data": {
      "image/png": "[encoded data removed]",
      "text/plain": [
       "<Figure size 640x480 with 1 Axes>"
      ]
     },
     "metadata": {},
     "output_type": "display_data"
    }
   ],
   "source": [
    "import matplotlib.pyplot as plt\n",
    "\n",
    "counts_synthetic = df_synthetic[\"priority\"].value_counts().sort_index()\n",
    "counts_real = df_patient[\"priority\"].value_counts().sort_index()\n",
    "\n",
    "plt.bar(counts_synthetic.index - 0.2, counts_synthetic.values, width=0.4, label='Synthetic')\n",
    "plt.bar(counts_real.index + 0.2, counts_real.values, width=0.4, label='Real 2425')\n",
    "plt.xticks([1, 2, 3])\n",
    "plt.xlabel(\"Priority Level\")\n",
    "plt.ylabel(\"Count\")\n",
    "plt.legend()\n",
    "plt.title(\"Distribution of Priority: Synthetic vs Real\")\n",
    "plt.show()\n"
   ]
  },
  {
   "cell_type": "code",
   "execution_count": 12,
   "metadata": {},
   "outputs": [
    {
     "data": {
      "text/plain": [
       "priority\n",
       "2    0.402643\n",
       "3    0.393964\n",
       "1    0.203393\n",
       "Name: proportion, dtype: float64"
      ]
     },
     "execution_count": 12,
     "metadata": {},
     "output_type": "execute_result"
    }
   ],
   "source": [
    "df_synthetic[\"priority\"].value_counts(normalize=True)"
   ]
  },
  {
   "cell_type": "code",
   "execution_count": 13,
   "metadata": {},
   "outputs": [],
   "source": [
    "df_patient[\"source\"] = \"real\"\n",
    "df_synthetic[\"source\"] = \"synthetic\"\n",
    "df_combined = pd.concat([df_patient, df_synthetic], ignore_index=True)\n",
    "df_combined.to_csv('./data/patient_lat_long.csv')"
   ]
  },
  {
   "cell_type": "code",
   "execution_count": 14,
   "metadata": {},
   "outputs": [
    {
     "name": "stderr",
     "output_type": "stream",
     "text": [
      "/var/folders/p_/9q2bvzqj04g1v63p4rjk_cxr0000gn/T/ipykernel_61310/3029084668.py:8: UserWarning: No artists with labels found to put in legend.  Note that artists whose label start with an underscore are ignored when legend() is called with no argument.\n",
      "  plt.legend()\n"
     ]
    },
    {
     "data": {
      "image/png": "[encoded data removed]",
      "text/plain": [
       "<Figure size 640x480 with 1 Axes>"
      ]
     },
     "metadata": {},
     "output_type": "display_data"
    },
    {
     "data": {
      "text/plain": [
       "priority\n",
       "1    0.353356\n",
       "2    0.329937\n",
       "3    0.316706\n",
       "Name: proportion, dtype: float64"
      ]
     },
     "execution_count": 14,
     "metadata": {},
     "output_type": "execute_result"
    }
   ],
   "source": [
    "df_combined[\"priority\"].value_counts(normalize=True)\n",
    "counts = df_combined[\"priority\"].value_counts().sort_index()\n",
    "\n",
    "plt.bar(counts.index, counts.values, width=0.4)\n",
    "plt.xticks([1, 2, 3])\n",
    "plt.xlabel(\"Priority Level\")\n",
    "plt.ylabel(\"Count\")\n",
    "plt.legend()\n",
    "plt.title(\"Distribution of Priority\")\n",
    "plt.show()\n",
    "\n",
    "df_combined[\"priority\"].value_counts(normalize=True)"
   ]
  }
 ],
 "metadata": {
  "kernelspec": {
   "display_name": "Python 3",
   "language": "python",
   "name": "python3"
  },
  "language_info": {
   "codemirror_mode": {
    "name": "ipython",
    "version": 3
   },
   "file_extension": ".py",
   "mimetype": "text/x-python",
   "name": "python",
   "nbconvert_exporter": "python",
   "pygments_lexer": "ipython3",
   "version": "3.12.6"
  }
 },
 "nbformat": 4,
 "nbformat_minor": 2
}
